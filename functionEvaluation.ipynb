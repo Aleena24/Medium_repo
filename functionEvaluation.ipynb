{
  "nbformat": 4,
  "nbformat_minor": 0,
  "metadata": {
    "colab": {
      "provenance": [],
      "authorship_tag": "ABX9TyN5NjPQQzmLl1jILh0JkqT2"
    },
    "kernelspec": {
      "name": "python3",
      "display_name": "Python 3"
    },
    "language_info": {
      "name": "python"
    }
  },
  "cells": [
    {
      "cell_type": "markdown",
      "source": [
        "# Preprocessing Function"
      ],
      "metadata": {
        "id": "CG-2XsfPVydg"
      }
    },
    {
      "cell_type": "code",
      "source": [
        "from sklearn.preprocessing import StandardScaler\n",
        "import pandas as pd\n",
        "\n",
        "def preprocess_data(df, target):\n",
        "    \"\"\"\n",
        "    Clean and preprocess the dataset.\n",
        "    - Handle missing values\n",
        "    - Encode categorical data\n",
        "    - Scale numerical features\n",
        "    \"\"\"\n",
        "    # Handle missing values\n",
        "    numeric_cols = df.select_dtypes(include=['number']).columns\n",
        "    categorical_cols = df.select_dtypes(exclude=['number']).columns\n",
        "\n",
        "    df[numeric_cols] = df[numeric_cols].fillna(df[numeric_cols].median())\n",
        "    df[categorical_cols] = df[categorical_cols].fillna('Unknown')  # Fill non-numeric with a placeholder\n",
        "\n",
        "    # Separate target variable\n",
        "    y = df[target]\n",
        "    X = df.drop(target, axis=1)\n",
        "\n",
        "    # Encode categorical columns\n",
        "    X = pd.get_dummies(X, drop_first=True)\n",
        "\n",
        "    # Scale numerical features\n",
        "    scaler = StandardScaler()\n",
        "    numerical_cols = X.select_dtypes(include='number').columns\n",
        "    X[numerical_cols] = scaler.fit_transform(X[numerical_cols])\n",
        "\n",
        "    return X, y\n"
      ],
      "metadata": {
        "id": "bgviJsr5yoAb"
      },
      "execution_count": 24,
      "outputs": []
    },
    {
      "cell_type": "markdown",
      "source": [
        "# Model Training—Turning Data into Predictions"
      ],
      "metadata": {
        "id": "eJprpCcHV2dJ"
      }
    },
    {
      "cell_type": "code",
      "source": [
        "from sklearn.model_selection import train_test_split\n",
        "from sklearn.ensemble import RandomForestClassifier\n",
        "\n",
        "def train_model(X, y):\n",
        "    \"\"\"\n",
        "    Train a machine learning model on the data.\n",
        "    \"\"\"\n",
        "    # Split the data\n",
        "    X_train, X_test, y_train, y_test = train_test_split(X, y, test_size=0.2, random_state=42)\n",
        "\n",
        "    # Train a Random Forest Classifier\n",
        "    model = RandomForestClassifier()\n",
        "    model.fit(X_train, y_train)\n",
        "\n",
        "    return model, X_test, y_test\n"
      ],
      "metadata": {
        "id": "2r4HbS0CV40_"
      },
      "execution_count": 25,
      "outputs": []
    },
    {
      "cell_type": "markdown",
      "source": [
        "# Model Evaluation—Grading the Model’s Performance"
      ],
      "metadata": {
        "id": "Hj4hW_0XV9Fn"
      }
    },
    {
      "cell_type": "code",
      "source": [
        "from sklearn.ensemble import RandomForestRegressor\n",
        "from sklearn.model_selection import train_test_split\n",
        "\n",
        "def train_model(X, y):\n",
        "    \"\"\"\n",
        "    Train a Random Forest regression model.\n",
        "    \"\"\"\n",
        "    # Split the data\n",
        "    X_train, X_test, y_train, y_test = train_test_split(X, y, test_size=0.2, random_state=42)\n",
        "\n",
        "    # Train a Random Forest Regressor\n",
        "    model = RandomForestRegressor(random_state=42)\n",
        "    model.fit(X_train, y_train)\n",
        "\n",
        "    return model, X_test, y_test\n"
      ],
      "metadata": {
        "id": "aAVYuJ_gWCqO"
      },
      "execution_count": 30,
      "outputs": []
    },
    {
      "cell_type": "code",
      "source": [
        "# Load dataset\n",
        "df = pd.read_csv('/content/population.csv')\n",
        "\n",
        "# Preprocess data\n",
        "X, y = preprocess_data(df, target='Growth Rate')\n",
        "\n",
        "# Train model\n",
        "model, X_test, y_test = train_model(X, y)\n",
        "\n",
        "# Evaluate model\n",
        "evaluate_model(model, X_test, y_test)\n"
      ],
      "metadata": {
        "colab": {
          "base_uri": "https://localhost:8080/"
        },
        "id": "_4KxL4U-yypy",
        "outputId": "e166a61f-d382-4ce0-f4bf-dde03737206a"
      },
      "execution_count": 31,
      "outputs": [
        {
          "output_type": "stream",
          "name": "stdout",
          "text": [
            "Mean Squared Error: 4.91478258385093e-05\n",
            "R-squared: 0.6895863170915072\n"
          ]
        }
      ]
    }
  ]
}