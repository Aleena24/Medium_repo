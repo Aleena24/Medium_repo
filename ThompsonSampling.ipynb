{
  "nbformat": 4,
  "nbformat_minor": 0,
  "metadata": {
    "colab": {
      "provenance": [],
      "authorship_tag": "ABX9TyOYcPmRFJVdqskKR5aHJd7D"
    },
    "kernelspec": {
      "name": "python3",
      "display_name": "Python 3"
    },
    "language_info": {
      "name": "python"
    }
  },
  "cells": [
    {
      "cell_type": "code",
      "source": [
        "import numpy as np\n",
        "import matplotlib.pyplot as plt\n"
      ],
      "metadata": {
        "id": "DwHXjlK1113h"
      },
      "execution_count": 119,
      "outputs": []
    },
    {
      "cell_type": "code",
      "source": [
        "# Number of arms (slot machines)\n",
        "n_arms = 3"
      ],
      "metadata": {
        "id": "Zfrdn6MT120z"
      },
      "execution_count": 120,
      "outputs": []
    },
    {
      "cell_type": "code",
      "source": [
        "# True probabilities of rewards for each arm (These are unknown to the algorithm)\n",
        "true_probs = [0.8, 0.9, 0.9]"
      ],
      "metadata": {
        "id": "bg-aBANm137U"
      },
      "execution_count": 121,
      "outputs": []
    },
    {
      "cell_type": "code",
      "source": [
        "# Initialize Thompson Sampling variables:\n",
        "# successes[i] stores how many times arm i gave a reward\n",
        "# failures[i] stores how many times arm i did not give a reward\n",
        "successes = np.zeros(n_arms)  # Success counts for each arm\n",
        "failures = np.zeros(n_arms)   # Failure counts for each arm"
      ],
      "metadata": {
        "id": "znrat4sW15Is"
      },
      "execution_count": 122,
      "outputs": []
    },
    {
      "cell_type": "code",
      "source": [
        "# Total number of trials (pulling arms)\n",
        "n_trials = 1000"
      ],
      "metadata": {
        "id": "L7Ao4HA516Wf"
      },
      "execution_count": 123,
      "outputs": []
    },
    {
      "cell_type": "code",
      "source": [
        "# List to store the arm chosen at each trial\n",
        "chosen_arms = []"
      ],
      "metadata": {
        "id": "Sj-viWhf18gN"
      },
      "execution_count": 124,
      "outputs": []
    },
    {
      "cell_type": "code",
      "source": [
        "# Function to simulate pulling an arm (returns 1 for reward, 0 for no reward)\n",
        "def pull_arm(prob):\n",
        "    return 1 if np.random.rand() < prob else 0"
      ],
      "metadata": {
        "id": "b_4kdIlK19jb"
      },
      "execution_count": 125,
      "outputs": []
    },
    {
      "cell_type": "code",
      "source": [
        "# Thompson Sampling Simulation\n",
        "for trial in range(n_trials):\n",
        "    # Draw a sample from the Beta distribution for each arm\n",
        "    # Beta(successes + 1, failures + 1) gives the estimated reward probability for each arm\n",
        "    sampled_theta = np.random.beta(successes + 1, failures + 1)\n",
        "\n",
        "    # Choose the arm with the highest sampled value\n",
        "    chosen_arm = np.argmax(sampled_theta)\n",
        "\n",
        "    # Simulate pulling the chosen arm and receiving a reward or failure\n",
        "    reward = pull_arm(true_probs[chosen_arm])\n",
        "\n",
        "    # Store the chosen arm\n",
        "    chosen_arms.append(chosen_arm)\n",
        "\n",
        "    # Update the success or failure counts for the chosen arm\n",
        "    if reward == 1:\n",
        "        successes[chosen_arm] += 1\n",
        "    else:\n",
        "        failures[chosen_arm] += 1"
      ],
      "metadata": {
        "id": "rXgFgVD11_sY"
      },
      "execution_count": 126,
      "outputs": []
    },
    {
      "cell_type": "code",
      "source": [
        "# Visualizing the Results\n",
        "\n",
        "# Create a histogram showing how many times each arm was chosen\n",
        "plt.figure(figsize=(12, 6))\n",
        "plt.hist(chosen_arms, bins=n_arms, alpha=0.6, color='b', edgecolor='black')\n",
        "plt.title('Number of Times Each Arm Was Chosen (Thompson Sampling)')\n",
        "plt.xlabel('Arm Number')\n",
        "plt.ylabel('Times Chosen')\n",
        "plt.xticks(range(n_arms), [f'Arm {i}' for i in range(n_arms)])  # Label the arms\n",
        "plt.show()\n",
        "\n",
        "# Final Success and Failure Statistics\n",
        "print(\"\\n=== Final Success-Failure Statistics ===\")\n",
        "for i in range(n_arms):\n",
        "    print(f\"Arm {i}: Successes = {successes[i]}, Failures = {failures[i]}\")\n",
        "\n",
        "# Performance Summary\n",
        "print(\"\\n=== Performance Summary ===\")\n",
        "for i in range(n_arms):\n",
        "    print(f\"Arm {i}: True Probability = {true_probs[i]}, Estimated Probability = {successes[i] / (successes[i] + failures[i]):.3f}\")\n"
      ],
      "metadata": {
        "colab": {
          "base_uri": "https://localhost:8080/",
          "height": 738
        },
        "id": "liIBin8410gU",
        "outputId": "a6b51753-3908-426a-e13c-4b990b38a3f4"
      },
      "execution_count": 127,
      "outputs": [
        {
          "output_type": "display_data",
          "data": {
            "text/plain": [
              "<Figure size 1200x600 with 1 Axes>"
            ],
            "image/png": "[encoded data removed]"
          },
          "metadata": {}
        },
        {
          "output_type": "stream",
          "name": "stdout",
          "text": [
            "\n",
            "=== Final Success-Failure Statistics ===\n",
            "Arm 0: Successes = 58.0, Failures = 13.0\n",
            "Arm 1: Successes = 679.0, Failures = 74.0\n",
            "Arm 2: Successes = 158.0, Failures = 18.0\n",
            "\n",
            "=== Performance Summary ===\n",
            "Arm 0: True Probability = 0.8, Estimated Probability = 0.817\n",
            "Arm 1: True Probability = 0.9, Estimated Probability = 0.902\n",
            "Arm 2: True Probability = 0.9, Estimated Probability = 0.898\n"
          ]
        }
      ]
    }
  ]
}