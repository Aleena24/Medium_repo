{
  "nbformat": 4,
  "nbformat_minor": 0,
  "metadata": {
    "colab": {
      "provenance": [],
      "authorship_tag": "ABX9TyM7RP/nRyNO48jxC+iuuc85"
    },
    "kernelspec": {
      "name": "python3",
      "display_name": "Python 3"
    },
    "language_info": {
      "name": "python"
    }
  },
  "cells": [
    {
      "cell_type": "code",
      "source": [
        "!pip install pandas\n",
        "import pandas as pd"
      ],
      "metadata": {
        "colab": {
          "base_uri": "https://localhost:8080/"
        },
        "id": "dtUmBraBoJKX",
        "outputId": "28cb93de-1ba6-4d9d-db6e-d6b4b6457015"
      },
      "execution_count": 4,
      "outputs": [
        {
          "output_type": "stream",
          "name": "stdout",
          "text": [
            "Requirement already satisfied: pandas in /usr/local/lib/python3.10/dist-packages (2.2.2)\n",
            "Requirement already satisfied: numpy>=1.22.4 in /usr/local/lib/python3.10/dist-packages (from pandas) (1.26.4)\n",
            "Requirement already satisfied: python-dateutil>=2.8.2 in /usr/local/lib/python3.10/dist-packages (from pandas) (2.8.2)\n",
            "Requirement already satisfied: pytz>=2020.1 in /usr/local/lib/python3.10/dist-packages (from pandas) (2024.2)\n",
            "Requirement already satisfied: tzdata>=2022.7 in /usr/local/lib/python3.10/dist-packages (from pandas) (2024.2)\n",
            "Requirement already satisfied: six>=1.5 in /usr/local/lib/python3.10/dist-packages (from python-dateutil>=2.8.2->pandas) (1.16.0)\n"
          ]
        }
      ]
    },
    {
      "cell_type": "markdown",
      "source": [
        "# Loading the data"
      ],
      "metadata": {
        "id": "hvySPynToLgG"
      }
    },
    {
      "cell_type": "code",
      "source": [
        "data = {\n",
        "    \"City\": [\"Tokyo\", \"Delhi\", \"Shanghai\", \"São Paulo\", \"New York\"],\n",
        "    \"Country\": [\"Japan\", \"India\", \"China\", \"Brazil\", \"USA\"],\n",
        "    \"Continent\": [\"Asia\", \"Asia\", \"Asia\", \"South America\", \"North America\"],\n",
        "    \"Population (2024)\": [37393000, 31870000, 26752000, 22490000, 18710000],\n",
        "    \"Population (2023)\": [37400000, 31780000, 26800000, 22380000, 18620000],\n",
        "    \"Growth Rate\": [-0.018, 0.283, -0.179, 0.491, 0.483],\n",
        "}\n",
        "\n",
        "# Convert to a DataFrame\n",
        "df = pd.DataFrame(data)\n",
        "print(df)\n"
      ],
      "metadata": {
        "colab": {
          "base_uri": "https://localhost:8080/"
        },
        "id": "DG21Wk4YoGjX",
        "outputId": "2beec610-f40a-4bc0-eb82-b4aba1876340"
      },
      "execution_count": 5,
      "outputs": [
        {
          "output_type": "stream",
          "name": "stdout",
          "text": [
            "        City Country      Continent  Population (2024)  Population (2023)  \\\n",
            "0      Tokyo   Japan           Asia           37393000           37400000   \n",
            "1      Delhi   India           Asia           31870000           31780000   \n",
            "2   Shanghai   China           Asia           26752000           26800000   \n",
            "3  São Paulo  Brazil  South America           22490000           22380000   \n",
            "4   New York     USA  North America           18710000           18620000   \n",
            "\n",
            "   Growth Rate  \n",
            "0       -0.018  \n",
            "1        0.283  \n",
            "2       -0.179  \n",
            "3        0.491  \n",
            "4        0.483  \n"
          ]
        }
      ]
    },
    {
      "cell_type": "markdown",
      "source": [
        "# Data exploration"
      ],
      "metadata": {
        "id": "0Mn-aYWwocU7"
      }
    },
    {
      "cell_type": "code",
      "source": [
        "print(df.head())"
      ],
      "metadata": {
        "colab": {
          "base_uri": "https://localhost:8080/"
        },
        "id": "f6MfdJfsoZPO",
        "outputId": "a8b0c806-d96e-4af2-f348-5af20f9ecdea"
      },
      "execution_count": 6,
      "outputs": [
        {
          "output_type": "stream",
          "name": "stdout",
          "text": [
            "        City Country      Continent  Population (2024)  Population (2023)  \\\n",
            "0      Tokyo   Japan           Asia           37393000           37400000   \n",
            "1      Delhi   India           Asia           31870000           31780000   \n",
            "2   Shanghai   China           Asia           26752000           26800000   \n",
            "3  São Paulo  Brazil  South America           22490000           22380000   \n",
            "4   New York     USA  North America           18710000           18620000   \n",
            "\n",
            "   Growth Rate  \n",
            "0       -0.018  \n",
            "1        0.283  \n",
            "2       -0.179  \n",
            "3        0.491  \n",
            "4        0.483  \n"
          ]
        }
      ]
    },
    {
      "cell_type": "code",
      "source": [
        "print(df.describe())"
      ],
      "metadata": {
        "colab": {
          "base_uri": "https://localhost:8080/"
        },
        "id": "NMGZK-hWogf1",
        "outputId": "0e5a6312-e9cd-4154-e94c-f38737d9f58d"
      },
      "execution_count": 7,
      "outputs": [
        {
          "output_type": "stream",
          "name": "stdout",
          "text": [
            "       Population (2024)  Population (2023)  Growth Rate\n",
            "count       5.000000e+00       5.000000e+00     5.000000\n",
            "mean        2.744300e+07       2.739600e+07     0.212000\n",
            "std         7.414105e+06       7.447032e+06     0.300875\n",
            "min         1.871000e+07       1.862000e+07    -0.179000\n",
            "25%         2.249000e+07       2.238000e+07    -0.018000\n",
            "50%         2.675200e+07       2.680000e+07     0.283000\n",
            "75%         3.187000e+07       3.178000e+07     0.483000\n",
            "max         3.739300e+07       3.740000e+07     0.491000\n"
          ]
        }
      ]
    },
    {
      "cell_type": "code",
      "source": [
        "print(df.dtypes)"
      ],
      "metadata": {
        "colab": {
          "base_uri": "https://localhost:8080/"
        },
        "id": "DJnOBOtjojXb",
        "outputId": "cf63c2bf-6a2a-4795-ab52-84d95a1acd31"
      },
      "execution_count": 8,
      "outputs": [
        {
          "output_type": "stream",
          "name": "stdout",
          "text": [
            "City                  object\n",
            "Country               object\n",
            "Continent             object\n",
            "Population (2024)      int64\n",
            "Population (2023)      int64\n",
            "Growth Rate          float64\n",
            "dtype: object\n"
          ]
        }
      ]
    },
    {
      "cell_type": "markdown",
      "source": [
        "# Cleaning the Data"
      ],
      "metadata": {
        "id": "_pUe9X6oooQn"
      }
    },
    {
      "cell_type": "code",
      "source": [
        "df.rename(columns={\"Population (2024)\": \"Pop_2024\", \"Population (2023)\": \"Pop_2023\"}, inplace=True)\n",
        "print(df.columns)"
      ],
      "metadata": {
        "colab": {
          "base_uri": "https://localhost:8080/"
        },
        "id": "oKaLD6F8olI1",
        "outputId": "a671eb6b-6869-43bf-c98e-48e9023e8331"
      },
      "execution_count": 9,
      "outputs": [
        {
          "output_type": "stream",
          "name": "stdout",
          "text": [
            "Index(['City', 'Country', 'Continent', 'Pop_2024', 'Pop_2023', 'Growth Rate'], dtype='object')\n"
          ]
        }
      ]
    },
    {
      "cell_type": "markdown",
      "source": [
        "Handling Missing Values"
      ],
      "metadata": {
        "id": "eBiQN1YdostF"
      }
    },
    {
      "cell_type": "code",
      "source": [
        "# Fill missing values with 0\n",
        "df.fillna(0, inplace=True)\n",
        "\n",
        "# Drop rows with missing values\n",
        "df.dropna(inplace=True)\n"
      ],
      "metadata": {
        "id": "SsHjrjf_osBv"
      },
      "execution_count": 10,
      "outputs": []
    },
    {
      "cell_type": "markdown",
      "source": [
        "Transforming the Data"
      ],
      "metadata": {
        "id": "2pON8Czso1FJ"
      }
    },
    {
      "cell_type": "code",
      "source": [
        "df[\"Population Difference\"] = df[\"Pop_2024\"] - df[\"Pop_2023\"]\n",
        "print(df)"
      ],
      "metadata": {
        "colab": {
          "base_uri": "https://localhost:8080/"
        },
        "id": "1m9DPO1so3i0",
        "outputId": "73a8aa67-780c-4ccf-a032-ea61a8fa0325"
      },
      "execution_count": 11,
      "outputs": [
        {
          "output_type": "stream",
          "name": "stdout",
          "text": [
            "        City Country      Continent  Pop_2024  Pop_2023  Growth Rate  \\\n",
            "0      Tokyo   Japan           Asia  37393000  37400000       -0.018   \n",
            "1      Delhi   India           Asia  31870000  31780000        0.283   \n",
            "2   Shanghai   China           Asia  26752000  26800000       -0.179   \n",
            "3  São Paulo  Brazil  South America  22490000  22380000        0.491   \n",
            "4   New York     USA  North America  18710000  18620000        0.483   \n",
            "\n",
            "   Population Difference  \n",
            "0                  -7000  \n",
            "1                  90000  \n",
            "2                 -48000  \n",
            "3                 110000  \n",
            "4                  90000  \n"
          ]
        }
      ]
    },
    {
      "cell_type": "code",
      "source": [
        "positive_growth = df[df[\"Growth Rate\"] > 0]\n",
        "print(positive_growth)"
      ],
      "metadata": {
        "colab": {
          "base_uri": "https://localhost:8080/"
        },
        "id": "q6bDzZeMo6H6",
        "outputId": "98420ee9-6b76-4b6f-e48f-00c32165229d"
      },
      "execution_count": 13,
      "outputs": [
        {
          "output_type": "stream",
          "name": "stdout",
          "text": [
            "        City Country      Continent  Pop_2024  Pop_2023  Growth Rate  \\\n",
            "1      Delhi   India           Asia  31870000  31780000        0.283   \n",
            "3  São Paulo  Brazil  South America  22490000  22380000        0.491   \n",
            "4   New York     USA  North America  18710000  18620000        0.483   \n",
            "\n",
            "   Population Difference  \n",
            "1                  90000  \n",
            "3                 110000  \n",
            "4                  90000  \n"
          ]
        }
      ]
    },
    {
      "cell_type": "code",
      "source": [
        "df_sorted = df.sort_values(by=\"Pop_2024\", ascending=False)\n",
        "print(df_sorted)"
      ],
      "metadata": {
        "colab": {
          "base_uri": "https://localhost:8080/"
        },
        "id": "G-istzQ2o8zV",
        "outputId": "ecece30a-90f1-4409-b840-66d9a6b85c1e"
      },
      "execution_count": 14,
      "outputs": [
        {
          "output_type": "stream",
          "name": "stdout",
          "text": [
            "        City Country      Continent  Pop_2024  Pop_2023  Growth Rate  \\\n",
            "0      Tokyo   Japan           Asia  37393000  37400000       -0.018   \n",
            "1      Delhi   India           Asia  31870000  31780000        0.283   \n",
            "2   Shanghai   China           Asia  26752000  26800000       -0.179   \n",
            "3  São Paulo  Brazil  South America  22490000  22380000        0.491   \n",
            "4   New York     USA  North America  18710000  18620000        0.483   \n",
            "\n",
            "   Population Difference  \n",
            "0                  -7000  \n",
            "1                  90000  \n",
            "2                 -48000  \n",
            "3                 110000  \n",
            "4                  90000  \n"
          ]
        }
      ]
    },
    {
      "cell_type": "markdown",
      "source": [
        "# Aggregating Data"
      ],
      "metadata": {
        "id": "TTxsP_YlpXA4"
      }
    },
    {
      "cell_type": "code",
      "source": [
        "continent_population = df.groupby(\"Continent\")[\"Pop_2024\"].sum()\n",
        "print(continent_population)\n"
      ],
      "metadata": {
        "colab": {
          "base_uri": "https://localhost:8080/"
        },
        "id": "iREoznwupX1b",
        "outputId": "35f2689c-7128-49a3-b0ee-4a7515a3091e"
      },
      "execution_count": 15,
      "outputs": [
        {
          "output_type": "stream",
          "name": "stdout",
          "text": [
            "Continent\n",
            "Asia             96015000\n",
            "North America    18710000\n",
            "South America    22490000\n",
            "Name: Pop_2024, dtype: int64\n"
          ]
        }
      ]
    },
    {
      "cell_type": "markdown",
      "source": [
        "Calculate Multiple Aggregations"
      ],
      "metadata": {
        "id": "OHXkWPADpfSB"
      }
    },
    {
      "cell_type": "code",
      "source": [
        "aggregations = df.groupby(\"Continent\").agg({\n",
        "    \"Pop_2024\": [\"sum\", \"mean\"],\n",
        "    \"Growth Rate\": [\"mean\", \"max\"]\n",
        "})\n",
        "print(aggregations)\n"
      ],
      "metadata": {
        "colab": {
          "base_uri": "https://localhost:8080/"
        },
        "id": "TxCFwJLApcdS",
        "outputId": "c518f5ee-0b59-4dae-b21c-cb6a03a22c82"
      },
      "execution_count": 16,
      "outputs": [
        {
          "output_type": "stream",
          "name": "stdout",
          "text": [
            "               Pop_2024             Growth Rate       \n",
            "                    sum        mean        mean    max\n",
            "Continent                                             \n",
            "Asia           96015000  32005000.0    0.028667  0.283\n",
            "North America  18710000  18710000.0    0.483000  0.483\n",
            "South America  22490000  22490000.0    0.491000  0.491\n"
          ]
        }
      ]
    },
    {
      "cell_type": "markdown",
      "source": [
        "# Merging and Joining Data"
      ],
      "metadata": {
        "id": "mnUOiKeIplR4"
      }
    },
    {
      "cell_type": "code",
      "source": [
        "gdp_data = {\n",
        "    \"Country\": [\"Japan\", \"India\", \"China\", \"Brazil\", \"USA\"],\n",
        "    \"GDP (2024)\": [5000, 3200, 14200, 2400, 23000],\n",
        "}\n",
        "\n",
        "gdp_df = pd.DataFrame(gdp_data)\n",
        "\n",
        "# Merge based on the \"Country\" column\n",
        "merged_df = pd.merge(df, gdp_df, on=\"Country\")\n",
        "print(merged_df)\n"
      ],
      "metadata": {
        "colab": {
          "base_uri": "https://localhost:8080/"
        },
        "id": "U_GJcLP-pjIS",
        "outputId": "07c530f0-5636-4161-ab76-539f3429c1b4"
      },
      "execution_count": 17,
      "outputs": [
        {
          "output_type": "stream",
          "name": "stdout",
          "text": [
            "        City Country      Continent  Pop_2024  Pop_2023  Growth Rate  \\\n",
            "0      Tokyo   Japan           Asia  37393000  37400000       -0.018   \n",
            "1      Delhi   India           Asia  31870000  31780000        0.283   \n",
            "2   Shanghai   China           Asia  26752000  26800000       -0.179   \n",
            "3  São Paulo  Brazil  South America  22490000  22380000        0.491   \n",
            "4   New York     USA  North America  18710000  18620000        0.483   \n",
            "\n",
            "   Population Difference  GDP (2024)  \n",
            "0                  -7000        5000  \n",
            "1                  90000        3200  \n",
            "2                 -48000       14200  \n",
            "3                 110000        2400  \n",
            "4                  90000       23000  \n"
          ]
        }
      ]
    },
    {
      "cell_type": "markdown",
      "source": [
        "# Exporting the Data"
      ],
      "metadata": {
        "id": "cMAOX4gIpp33"
      }
    },
    {
      "cell_type": "code",
      "source": [
        "df.to_csv(\"processed_data.csv\", index=False)"
      ],
      "metadata": {
        "id": "ymzh6PXOpntq"
      },
      "execution_count": 18,
      "outputs": []
    }
  ]
}