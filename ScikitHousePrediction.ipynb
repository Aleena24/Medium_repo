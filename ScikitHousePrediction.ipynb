{
  "nbformat": 4,
  "nbformat_minor": 0,
  "metadata": {
    "colab": {
      "provenance": [],
      "authorship_tag": "ABX9TyNznXu3i/6be/zb/2tin3KA"
    },
    "kernelspec": {
      "name": "python3",
      "display_name": "Python 3"
    },
    "language_info": {
      "name": "python"
    }
  },
  "cells": [
    {
      "cell_type": "code",
      "execution_count": 7,
      "metadata": {
        "id": "pDELyRKjdSMF"
      },
      "outputs": [],
      "source": [
        "import pandas as pd\n",
        "from sklearn.model_selection import train_test_split\n",
        "from sklearn.preprocessing import StandardScaler\n",
        "from sklearn.linear_model import LinearRegression\n",
        "from sklearn.metrics import mean_squared_error\n",
        "import numpy as np"
      ]
    },
    {
      "cell_type": "code",
      "source": [
        "# Create a sample dataset\n",
        "data = pd.DataFrame({\n",
        "    'Area': [1200, 1500, 800, 2000, 900],\n",
        "    'Bedrooms': [3, 4, 2, 5, 2],\n",
        "    'Age': [10, 15, 5, 20, 7],\n",
        "    'Price': [300000, 400000, 200000, 500000, 250000]\n",
        "})\n",
        "\n",
        "# Separate features (X) and target variable (y)\n",
        "X = data[['Area', 'Bedrooms', 'Age']]\n",
        "y = data['Price']\n"
      ],
      "metadata": {
        "id": "m2kjxiP7dhnj"
      },
      "execution_count": 8,
      "outputs": []
    },
    {
      "cell_type": "code",
      "source": [
        "# Split the data into training and testing sets\n",
        "X_train, X_test, y_train, y_test = train_test_split(X, y, test_size=0.2, random_state=42)\n",
        "\n",
        "# Scale the features\n",
        "scaler = StandardScaler()\n",
        "X_train_scaled = scaler.fit_transform(X_train)\n",
        "X_test_scaled = scaler.transform(X_test)\n"
      ],
      "metadata": {
        "id": "juB-cN__diur"
      },
      "execution_count": 9,
      "outputs": []
    },
    {
      "cell_type": "code",
      "source": [
        "# Create and train the model\n",
        "model = LinearRegression()\n",
        "model.fit(X_train_scaled, y_train)\n",
        "\n",
        "# Make predictions on the test data\n",
        "y_pred = model.predict(X_test_scaled)\n"
      ],
      "metadata": {
        "id": "xYh17aZIdlhm"
      },
      "execution_count": 10,
      "outputs": []
    },
    {
      "cell_type": "code",
      "source": [
        "# Calculate the Mean Squared Error\n",
        "mse = mean_squared_error(y_test, y_pred)\n",
        "print(f\"Mean Squared Error: {mse:.2f}\")\n"
      ],
      "metadata": {
        "colab": {
          "base_uri": "https://localhost:8080/"
        },
        "id": "Xq84jWFVdqwS",
        "outputId": "da3fd790-a3a5-4a7d-bf0d-789c7c9802d3"
      },
      "execution_count": 11,
      "outputs": [
        {
          "output_type": "stream",
          "name": "stdout",
          "text": [
            "Mean Squared Error: 112547827.51\n"
          ]
        }
      ]
    },
    {
      "cell_type": "code",
      "source": [
        "#Calculate the Root Mean Squared Error (RMSE)\n",
        "rmse = np.sqrt(mse)\n",
        "print(f\"Root Mean Squared Error (RMSE): {rmse:.2f}\")\n",
        "\n"
      ],
      "metadata": {
        "colab": {
          "base_uri": "https://localhost:8080/"
        },
        "id": "4y5JxYu7eRuL",
        "outputId": "bd00628d-5dea-4acc-cf83-0ef99f8bf295"
      },
      "execution_count": 12,
      "outputs": [
        {
          "output_type": "stream",
          "name": "stdout",
          "text": [
            "Root Mean Squared Error (RMSE): 10608.86\n"
          ]
        }
      ]
    },
    {
      "cell_type": "code",
      "source": [
        "# Baseline: Predict the mean price for all houses\n",
        "mean_price = y_train.mean()\n",
        "baseline_mse = mean_squared_error(y_test, [mean_price] * len(y_test))\n",
        "baseline_rmse = np.sqrt(baseline_mse)\n",
        "print(f\"Baseline MSE: {baseline_mse:.2f}\")\n",
        "print(f\"Baseline RMSE: {baseline_rmse:.2f}\")\n",
        "\n",
        "# Check model performance relative to baseline\n",
        "if mse < baseline_mse:\n",
        "    print(\"The model performs better than the baseline.\")\n",
        "else:\n",
        "    print(\"The model does not perform better than the baseline.\")"
      ],
      "metadata": {
        "colab": {
          "base_uri": "https://localhost:8080/"
        },
        "id": "GM3YBe8ieVJ1",
        "outputId": "d0f56f15-cc31-4469-abe0-ab74c0a00dd9"
      },
      "execution_count": 13,
      "outputs": [
        {
          "output_type": "stream",
          "name": "stdout",
          "text": [
            "Baseline MSE: 7656250000.00\n",
            "Baseline RMSE: 87500.00\n",
            "The model performs better than the baseline.\n"
          ]
        }
      ]
    }
  ]
}