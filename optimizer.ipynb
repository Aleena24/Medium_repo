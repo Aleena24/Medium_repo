{
  "nbformat": 4,
  "nbformat_minor": 0,
  "metadata": {
    "colab": {
      "provenance": [],
      "authorship_tag": "ABX9TyPRR6I7VPFqImfoUMIZ+4+w"
    },
    "kernelspec": {
      "name": "python3",
      "display_name": "Python 3"
    },
    "language_info": {
      "name": "python"
    }
  },
  "cells": [
    {
      "cell_type": "markdown",
      "source": [
        "# **Gradient Descent**"
      ],
      "metadata": {
        "id": "HT1j1hgzLwNT"
      }
    },
    {
      "cell_type": "code",
      "source": [
        "import numpy as np"
      ],
      "metadata": {
        "id": "7SNe7DO2LamU"
      },
      "execution_count": 1,
      "outputs": []
    },
    {
      "cell_type": "code",
      "execution_count": 2,
      "metadata": {
        "colab": {
          "base_uri": "https://localhost:8080/"
        },
        "id": "iS78mbWuLTqJ",
        "outputId": "3add36f1-bf55-4fc6-ed41-e15735523221"
      },
      "outputs": [
        {
          "output_type": "stream",
          "name": "stdout",
          "text": [
            "Optimized parameters: m=1.9951803506719779, b=0.017400463340610635\n"
          ]
        }
      ],
      "source": [
        "def gradient_descent(x, y, lr=0.01, epochs=1000):\n",
        "    m, b = 0, 0  # Initial parameters\n",
        "    n = len(x)\n",
        "    for _ in range(epochs):\n",
        "        y_pred = m * x + b\n",
        "        dm = (-2/n) * sum(x * (y - y_pred))\n",
        "        db = (-2/n) * sum(y - y_pred)\n",
        "        m -= lr * dm\n",
        "        b -= lr * db\n",
        "    return m, b\n",
        "\n",
        "# Example dataset\n",
        "x = np.array([1, 2, 3, 4, 5])\n",
        "y = np.array([2, 4, 6, 8, 10])\n",
        "m, b = gradient_descent(x, y)\n",
        "print(f\"Optimized parameters: m={m}, b={b}\")"
      ]
    },
    {
      "cell_type": "markdown",
      "source": [
        "# **Stochastic Gradient Descent (SGD)**"
      ],
      "metadata": {
        "id": "pV_lP5LoL_Mq"
      }
    },
    {
      "cell_type": "code",
      "source": [
        "from sklearn.linear_model import SGDRegressor"
      ],
      "metadata": {
        "id": "g13Sd_8oLouc"
      },
      "execution_count": 3,
      "outputs": []
    },
    {
      "cell_type": "code",
      "source": [
        "x = x.reshape(-1, 1)\n",
        "model = SGDRegressor(learning_rate='constant', eta0=0.01, max_iter=1000)\n",
        "model.fit(x, y)\n",
        "print(f\"SGD Parameters: Coefficients={model.coef_}, Intercept={model.intercept_}\")"
      ],
      "metadata": {
        "colab": {
          "base_uri": "https://localhost:8080/"
        },
        "id": "pusTa2xHLdZc",
        "outputId": "4a4f903f-ec6c-4bf0-fa22-841f33efa6ac"
      },
      "execution_count": 4,
      "outputs": [
        {
          "output_type": "stream",
          "name": "stdout",
          "text": [
            "SGD Parameters: Coefficients=[1.87650766], Intercept=[0.46484934]\n"
          ]
        }
      ]
    },
    {
      "cell_type": "markdown",
      "source": [
        "# **Adam Optimizer**"
      ],
      "metadata": {
        "id": "r37d3PdTMENd"
      }
    },
    {
      "cell_type": "code",
      "source": [
        "import tensorflow as tf"
      ],
      "metadata": {
        "id": "A1OesjQ4Lrh3"
      },
      "execution_count": 5,
      "outputs": []
    },
    {
      "cell_type": "code",
      "source": [
        "model = tf.keras.Sequential([\n",
        "    tf.keras.layers.Dense(1, input_shape=(1,))\n",
        "])\n",
        "model.compile(optimizer=tf.keras.optimizers.Adam(learning_rate=0.01), loss='mse')"
      ],
      "metadata": {
        "colab": {
          "base_uri": "https://localhost:8080/"
        },
        "id": "EdNXvw0SLhv1",
        "outputId": "a7c58bc0-6c82-4526-b54b-c352ae464440"
      },
      "execution_count": 6,
      "outputs": [
        {
          "output_type": "stream",
          "name": "stderr",
          "text": [
            "/usr/local/lib/python3.11/dist-packages/keras/src/layers/core/dense.py:87: UserWarning: Do not pass an `input_shape`/`input_dim` argument to a layer. When using Sequential models, prefer using an `Input(shape)` object as the first layer in the model instead.\n",
            "  super().__init__(activity_regularizer=activity_regularizer, **kwargs)\n"
          ]
        }
      ]
    },
    {
      "cell_type": "markdown",
      "source": [
        "# **RMSprop (Root Mean Square Propagation)**"
      ],
      "metadata": {
        "id": "CL1OTKcDMHXw"
      }
    },
    {
      "cell_type": "code",
      "source": [
        "model.compile(optimizer=tf.keras.optimizers.RMSprop(learning_rate=0.01), loss='mse')"
      ],
      "metadata": {
        "id": "JOoT77NILkxU"
      },
      "execution_count": 7,
      "outputs": []
    }
  ]
}